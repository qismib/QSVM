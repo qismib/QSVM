{
 "cells": [
  {
   "cell_type": "markdown",
   "id": "5b432139-1447-4024-8085-0c1e89c395e7",
   "metadata": {},
   "source": [
    "# preparo il dataset\n"
   ]
  },
  {
   "cell_type": "code",
   "execution_count": 1,
   "id": "a58af0c9-4ee6-42db-9e40-a878ba76662e",
   "metadata": {},
   "outputs": [],
   "source": [
    "# librerie\n",
    "from qiskit import QuantumCircuit\n",
    "from qiskit.providers.fake_provider import FakeManila, FakePerth # We can choose among many backends in 'fake_provider'\n",
    "from qiskit import transpile\n",
    "from qiskit.tools.visualization import plot_histogram\n",
    "from qiskit import Aer\n",
    "import numpy as np\n",
    "from sklearn.svm import SVC\n",
    "from sklearn.preprocessing import StandardScaler\n",
    "from sklearn.pipeline import make_pipeline\n",
    "from sklearn.model_selection import cross_val_score\n",
    "from sklearn.model_selection import train_test_split\n",
    "from sklearn.preprocessing import MinMaxScaler\n",
    "from sklearn.metrics import accuracy_score"
   ]
  },
  {
   "cell_type": "markdown",
   "id": "e9f7bfcb-adc4-4200-8335-3c5486fc1f72",
   "metadata": {},
   "source": [
    "come prima cosa definisco il mio circuito"
   ]
  },
  {
   "cell_type": "code",
   "execution_count": 91,
   "id": "cdb2f39f-c110-47da-8d0d-0b8bc33e343b",
   "metadata": {},
   "outputs": [
    {
     "name": "stdout",
     "output_type": "stream",
     "text": [
      "        ┌───┐              ┌───┐                           ┌───┐     »\n",
      "q_0: ───┤ H ├──────■────■──┤ H ├───────────────────■────■──┤ H ├─────»\n",
      "     ┌──┴───┴───┐┌─┴─┐  │  └───┘     ┌──────────┐┌─┴─┐  │  └───┘     »\n",
      "q_1: ┤ Rx(2π/3) ├┤ X ├──┼─────────■──┤ Rx(2π/3) ├┤ X ├──┼─────────■──»\n",
      "     └──────────┘└───┘┌─┴─┐       │  └──────────┘└───┘┌─┴─┐       │  »\n",
      "q_2: ──────────────■──┤ X ├───────┼────────────────■──┤ X ├───────┼──»\n",
      "     ┌─────────┐ ┌─┴─┐├───┤       │  ┌─────────┐ ┌─┴─┐├───┤       │  »\n",
      "q_3: ┤ Ry(π/3) ├─┤ X ├┤ H ├──■────┼──┤ Ry(π/3) ├─┤ X ├┤ H ├──■────┼──»\n",
      "     └─────────┘ └───┘└───┘┌─┴─┐┌─┴─┐├─────────┴┐└───┘└───┘┌─┴─┐┌─┴─┐»\n",
      "q_4: ──────────────────────┤ X ├┤ X ├┤ Rx(2π/7) ├──────────┤ X ├┤ X ├»\n",
      "                           └───┘└───┘└──────────┘          └───┘└───┘»\n",
      "c: 2/════════════════════════════════════════════════════════════════»\n",
      "                                                                     »\n",
      "«                                                       \n",
      "«q_0: ──────────────■────■──────────────────────────────\n",
      "«     ┌──────────┐┌─┴─┐  │                              \n",
      "«q_1: ┤ Rx(2π/3) ├┤ X ├──┼─────────■────────────────────\n",
      "«     └──────────┘└───┘┌─┴─┐       │                    \n",
      "«q_2: ──────────────■──┤ X ├───────┼────────────────────\n",
      "«     ┌─────────┐ ┌─┴─┐├───┤       │  ┌─┐               \n",
      "«q_3: ┤ Ry(π/3) ├─┤ X ├┤ H ├──■────┼──┤M├───────────────\n",
      "«     ├─────────┴┐└───┘└───┘┌─┴─┐┌─┴─┐└╥┘┌──────────┐┌─┐\n",
      "«q_4: ┤ Rx(2π/7) ├──────────┤ X ├┤ X ├─╫─┤ Rx(2π/7) ├┤M├\n",
      "«     └──────────┘          └───┘└───┘ ║ └──────────┘└╥┘\n",
      "«c: 2/═════════════════════════════════╩══════════════╩═\n",
      "«                                      1              0 \n"
     ]
    }
   ],
   "source": [
    "circuit = QuantumCircuit(5, 2)\n",
    "reps = 3\n",
    "for i in range(reps): #ripete 3 volte la seguenza di gates da te scelta\n",
    "    circuit.h(0)\n",
    "    circuit.rx(2/3*np.pi, 1)\n",
    "    circuit.cx(0,1)\n",
    "    circuit.ry(np.pi/3, 3)\n",
    "    circuit.cx(2,3)\n",
    "    circuit.h(3)\n",
    "    circuit.cx(3,4)\n",
    "    circuit.cx(0,2)\n",
    "    circuit.cx(1,4)\n",
    "    circuit.rx(2/7*np.pi, 4)\n",
    "circuit.measure([4,3], [0, 1])\n",
    "# circuit.measure_all()\n",
    "print(circuit)"
   ]
  },
  {
   "cell_type": "markdown",
   "id": "a0c3d8cf-b389-4931-bf92-2fd2413c3bcb",
   "metadata": {},
   "source": [
    "la funzione trasnpile mi permette di costruire un circuito equivalente al mio leggibile dal computer quantistico che simulo perché ogni computer quantistico ha i suoi gate \"nativi\" e quindi devo trovare il modo di scrivere i miei gate con i suoi\n",
    "\n"
   ]
  },
  {
   "cell_type": "markdown",
   "id": "fc5ed4e1-11eb-4c7b-9484-269ca461a457",
   "metadata": {},
   "source": [
    "faccio runnare il circuito, e costruisco il mio dataset"
   ]
  },
  {
   "cell_type": "code",
   "execution_count": 92,
   "id": "8848172e-757a-43a2-8afa-abf36c039248",
   "metadata": {},
   "outputs": [],
   "source": [
    "def run_circuit(circuit, backend, shots = 1000, measured_qubits = 5):\n",
    "    transpiled_circuit = transpile(circuit, backend) \n",
    "    job = backend.run(transpiled_circuit, shots = shots)\n",
    "    counts = job.result().get_counts()\n",
    "    all_possible_keys = [format(i, '0'+str(measured_qubits)+'b') for i in range(2**measured_qubits)]\n",
    "    for key in all_possible_keys:\n",
    "        if key not in counts:\n",
    "            counts[key] = 0.0\n",
    "    sorted_counts = dict(sorted(counts.items()))\n",
    "    return sorted_counts\n",
    "\n",
    "def make_dataset(num_samples, circuit, backend1, backend2, shots = 1000, measured_qubits = 5):\n",
    "    dataset = np.zeros((2*num_samples, 2**measured_qubits))\n",
    "    for i in range(num_samples):\n",
    "        counts_array = np.zeros(0)\n",
    "        counts = run_circuit(circuit, backend1, shots, measured_qubits)\n",
    "        for key in counts.keys():\n",
    "            counts_array = np.append(counts_array, counts[key])\n",
    "        dataset[i] = counts_array\n",
    "    for i in range(num_samples, 2*num_samples):\n",
    "        counts_array = np.zeros(0)\n",
    "        counts = run_circuit(circuit, backend2, shots, measured_qubits)\n",
    "        for key in counts.keys():\n",
    "            counts_array = np.append(counts_array, counts[key])\n",
    "        dataset[i] = counts_array\n",
    "    labels = np.concatenate([np.zeros(num_samples), np.ones(num_samples)])\n",
    "    return dataset, labels"
   ]
  },
  {
   "cell_type": "code",
   "execution_count": 105,
   "id": "88f7164a-63a1-4047-9f14-65875fe45a97",
   "metadata": {},
   "outputs": [
    {
     "data": {
      "text/plain": [
       "(1000, 4)"
      ]
     },
     "execution_count": 105,
     "metadata": {},
     "output_type": "execute_result"
    }
   ],
   "source": [
    "# In this example, the dataset will contain 1000 samplings, 500 ran with Manila and 500 ran with Perth\n",
    "# Note that generating the dataset may take a while.\n",
    "dataset, labels = make_dataset(500, circuit, FakeManila(), FakePerth(), shots = 100000, measured_qubits=2)\n",
    "dataset.shape"
   ]
  },
  {
   "cell_type": "code",
   "execution_count": 106,
   "id": "d48d4f97-fb84-4076-953b-2fe053bc69e4",
   "metadata": {},
   "outputs": [],
   "source": [
    "np.save('dataset4f10', dataset)\n",
    "np.save('labels4f10', labels)"
   ]
  },
  {
   "cell_type": "code",
   "execution_count": 107,
   "id": "18164b63-2282-4040-9c12-9eb908826701",
   "metadata": {},
   "outputs": [],
   "source": [
    "import matplotlib.pyplot as plt"
   ]
  },
  {
   "cell_type": "code",
   "execution_count": 108,
   "id": "46596eb6-f20e-4316-925e-23716789b88f",
   "metadata": {},
   "outputs": [
    {
     "data": {
      "text/plain": [
       "<matplotlib.collections.PathCollection at 0x1fcfd1b5710>"
      ]
     },
     "execution_count": 108,
     "metadata": {},
     "output_type": "execute_result"
    },
    {
     "data": {
      "image/png": "[encoded data removed]",
      "text/plain": [
       "<Figure size 640x480 with 1 Axes>"
      ]
     },
     "metadata": {},
     "output_type": "display_data"
    }
   ],
   "source": [
    "plt.scatter(x=dataset[labels==0,0], y=dataset[labels==0,1] )\n",
    "plt.scatter(x=dataset[labels==1,0], y=dataset[labels==1,1] )"
   ]
  },
  {
   "cell_type": "markdown",
   "id": "75f32ba9-f78e-45cc-9412-c8b1a7feab3c",
   "metadata": {},
   "source": [
    "# Support Vector Machine classica\n"
   ]
  },
  {
   "cell_type": "code",
   "execution_count": 109,
   "id": "65a287b9-11a6-4c4a-a015-a4cda6cb9674",
   "metadata": {},
   "outputs": [],
   "source": [
    "# Dataset loading\n",
    "dataset = np.load('dataset4f6.npy')\n",
    "labels = np.load('labels4f6.npy')"
   ]
  },
  {
   "cell_type": "code",
   "execution_count": 47,
   "id": "e9e8700d-9c79-4436-b0ac-aed5392fac46",
   "metadata": {},
   "outputs": [
    {
     "data": {
      "text/plain": [
       "(1000, 4)"
      ]
     },
     "execution_count": 47,
     "metadata": {},
     "output_type": "execute_result"
    }
   ],
   "source": [
    "dataset.shape #solo per controllare che sia uguale a quello sopra"
   ]
  },
  {
   "cell_type": "code",
   "execution_count": 49,
   "id": "b5b13763-448f-4568-93da-659b5d7eed70",
   "metadata": {},
   "outputs": [
    {
     "name": "stdout",
     "output_type": "stream",
     "text": [
      "562.0\n"
     ]
    }
   ],
   "source": [
    "print(dataset[34,3])"
   ]
  },
  {
   "cell_type": "code",
   "execution_count": 50,
   "id": "fb9f0b29-6724-4d4d-b09b-e2019b000d4c",
   "metadata": {},
   "outputs": [],
   "source": [
    "# Dataset rescaling and training/validation split\n",
    "\n",
    "scaler = MinMaxScaler().fit(dataset) #normalizzazione\n",
    "dataset = scaler.transform(dataset)\n",
    "training_set, validation_set, training_label, validation_label = train_test_split(dataset, labels, train_size = 0.7)"
   ]
  },
  {
   "cell_type": "code",
   "execution_count": 51,
   "id": "fcbdd866-daae-4a76-9693-fa6f8af35e61",
   "metadata": {},
   "outputs": [
    {
     "name": "stdout",
     "output_type": "stream",
     "text": [
      "0.8503401360544212\n"
     ]
    }
   ],
   "source": [
    "print(dataset[33,1]) #controlla la normalizzazione"
   ]
  },
  {
   "cell_type": "code",
   "execution_count": 87,
   "id": "31cf9cac-5bac-42a8-9468-eaf43e8a2c48",
   "metadata": {},
   "outputs": [
    {
     "data": {
      "text/html": [
       "<style>#sk-container-id-20 {color: black;}#sk-container-id-20 pre{padding: 0;}#sk-container-id-20 div.sk-toggleable {background-color: white;}#sk-container-id-20 label.sk-toggleable__label {cursor: pointer;display: block;width: 100%;margin-bottom: 0;padding: 0.3em;box-sizing: border-box;text-align: center;}#sk-container-id-20 label.sk-toggleable__label-arrow:before {content: \"▸\";float: left;margin-right: 0.25em;color: #696969;}#sk-container-id-20 label.sk-toggleable__label-arrow:hover:before {color: black;}#sk-container-id-20 div.sk-estimator:hover label.sk-toggleable__label-arrow:before {color: black;}#sk-container-id-20 div.sk-toggleable__content {max-height: 0;max-width: 0;overflow: hidden;text-align: left;background-color: #f0f8ff;}#sk-container-id-20 div.sk-toggleable__content pre {margin: 0.2em;color: black;border-radius: 0.25em;background-color: #f0f8ff;}#sk-container-id-20 input.sk-toggleable__control:checked~div.sk-toggleable__content {max-height: 200px;max-width: 100%;overflow: auto;}#sk-container-id-20 input.sk-toggleable__control:checked~label.sk-toggleable__label-arrow:before {content: \"▾\";}#sk-container-id-20 div.sk-estimator input.sk-toggleable__control:checked~label.sk-toggleable__label {background-color: #d4ebff;}#sk-container-id-20 div.sk-label input.sk-toggleable__control:checked~label.sk-toggleable__label {background-color: #d4ebff;}#sk-container-id-20 input.sk-hidden--visually {border: 0;clip: rect(1px 1px 1px 1px);clip: rect(1px, 1px, 1px, 1px);height: 1px;margin: -1px;overflow: hidden;padding: 0;position: absolute;width: 1px;}#sk-container-id-20 div.sk-estimator {font-family: monospace;background-color: #f0f8ff;border: 1px dotted black;border-radius: 0.25em;box-sizing: border-box;margin-bottom: 0.5em;}#sk-container-id-20 div.sk-estimator:hover {background-color: #d4ebff;}#sk-container-id-20 div.sk-parallel-item::after {content: \"\";width: 100%;border-bottom: 1px solid gray;flex-grow: 1;}#sk-container-id-20 div.sk-label:hover label.sk-toggleable__label {background-color: #d4ebff;}#sk-container-id-20 div.sk-serial::before {content: \"\";position: absolute;border-left: 1px solid gray;box-sizing: border-box;top: 0;bottom: 0;left: 50%;z-index: 0;}#sk-container-id-20 div.sk-serial {display: flex;flex-direction: column;align-items: center;background-color: white;padding-right: 0.2em;padding-left: 0.2em;position: relative;}#sk-container-id-20 div.sk-item {position: relative;z-index: 1;}#sk-container-id-20 div.sk-parallel {display: flex;align-items: stretch;justify-content: center;background-color: white;position: relative;}#sk-container-id-20 div.sk-item::before, #sk-container-id-20 div.sk-parallel-item::before {content: \"\";position: absolute;border-left: 1px solid gray;box-sizing: border-box;top: 0;bottom: 0;left: 50%;z-index: -1;}#sk-container-id-20 div.sk-parallel-item {display: flex;flex-direction: column;z-index: 1;position: relative;background-color: white;}#sk-container-id-20 div.sk-parallel-item:first-child::after {align-self: flex-end;width: 50%;}#sk-container-id-20 div.sk-parallel-item:last-child::after {align-self: flex-start;width: 50%;}#sk-container-id-20 div.sk-parallel-item:only-child::after {width: 0;}#sk-container-id-20 div.sk-dashed-wrapped {border: 1px dashed gray;margin: 0 0.4em 0.5em 0.4em;box-sizing: border-box;padding-bottom: 0.4em;background-color: white;}#sk-container-id-20 div.sk-label label {font-family: monospace;font-weight: bold;display: inline-block;line-height: 1.2em;}#sk-container-id-20 div.sk-label-container {text-align: center;}#sk-container-id-20 div.sk-container {/* jupyter's `normalize.less` sets `[hidden] { display: none; }` but bootstrap.min.css set `[hidden] { display: none !important; }` so we also need the `!important` here to be able to override the default hidden behavior on the sphinx rendered scikit-learn.org. See: https://github.com/scikit-learn/scikit-learn/issues/21755 */display: inline-block !important;position: relative;}#sk-container-id-20 div.sk-text-repr-fallback {display: none;}</style><div id=\"sk-container-id-20\" class=\"sk-top-container\"><div class=\"sk-text-repr-fallback\"><pre>SVC(C=10, coef0=1, gamma=0.01, kernel=&#x27;sigmoid&#x27;)</pre><b>In a Jupyter environment, please rerun this cell to show the HTML representation or trust the notebook. <br />On GitHub, the HTML representation is unable to render, please try loading this page with nbviewer.org.</b></div><div class=\"sk-container\" hidden><div class=\"sk-item\"><div class=\"sk-estimator sk-toggleable\"><input class=\"sk-toggleable__control sk-hidden--visually\" id=\"sk-estimator-id-20\" type=\"checkbox\" checked><label for=\"sk-estimator-id-20\" class=\"sk-toggleable__label sk-toggleable__label-arrow\">SVC</label><div class=\"sk-toggleable__content\"><pre>SVC(C=10, coef0=1, gamma=0.01, kernel=&#x27;sigmoid&#x27;)</pre></div></div></div></div></div>"
      ],
      "text/plain": [
       "SVC(C=10, coef0=1, gamma=0.01, kernel='sigmoid')"
      ]
     },
     "execution_count": 87,
     "metadata": {},
     "output_type": "execute_result"
    }
   ],
   "source": [
    "# SVM definition and training\n",
    "svm_classifier = SVC(kernel='sigmoid', C=10, gamma=0.01, coef0=1)\n",
    "svm_classifier.fit(training_set, training_label)"
   ]
  },
  {
   "cell_type": "code",
   "execution_count": 83,
   "id": "c9a3eac5-3577-49af-baa7-d99e360d3272",
   "metadata": {},
   "outputs": [],
   "source": [
    "from sklearn.model_selection import GridSearchCV "
   ]
  },
  {
   "cell_type": "code",
   "execution_count": 84,
   "id": "412436af-b3d2-4a5b-88b0-ee2ede6df8f5",
   "metadata": {},
   "outputs": [],
   "source": [
    "#trovo i parametri migliori per il kernel\n",
    "param_grid = {\"C\": [0.01, 0.1, 1, 10, 100, 1000, 10000], \n",
    "              \"gamma\": [0.01, 0.1, 1],\n",
    "              \"coef0\": [0.01, 0.1, 1, 10]}\n",
    "              #\"degree\":[1, 2, 3]}\n",
    "grid_search = GridSearchCV(svm_classifier, param_grid, cv=5, scoring=\"accuracy\", verbose = 0)\n",
    "grid_search.fit(training_set, training_label)\n",
    "best_clf = grid_search.best_estimator_"
   ]
  },
  {
   "cell_type": "code",
   "execution_count": 85,
   "id": "0ac143ca-b441-4370-8100-7746203fe490",
   "metadata": {},
   "outputs": [
    {
     "name": "stdout",
     "output_type": "stream",
     "text": [
      "SVC(C=10, coef0=1, gamma=0.01, kernel='sigmoid')\n"
     ]
    }
   ],
   "source": [
    "print(best_clf)"
   ]
  },
  {
   "cell_type": "code",
   "execution_count": 88,
   "id": "6e932135-6688-41ff-b3f4-8663a52e9d6d",
   "metadata": {},
   "outputs": [
    {
     "name": "stdout",
     "output_type": "stream",
     "text": [
      "Accuracy: 67.67%\n"
     ]
    }
   ],
   "source": [
    "y_pred = svm_classifier.predict(validation_set)\n",
    "\n",
    "# Evaluate the accuracy of the classifier\n",
    "\n",
    "accuracy = accuracy_score(validation_label, y_pred)\n",
    "print(f\"Accuracy: {accuracy * 100:.2f}%\")\n"
   ]
  },
  {
   "cell_type": "code",
   "execution_count": 89,
   "id": "89b9b95f-2996-45f2-bb89-b02efe8605ca",
   "metadata": {},
   "outputs": [
    {
     "name": "stdout",
     "output_type": "stream",
     "text": [
      "[0.835 0.87  0.865 0.865 0.83 ]\n",
      "0.8530000000000001\n"
     ]
    }
   ],
   "source": [
    "from sklearn.svm import SVC\n",
    "from sklearn.preprocessing import StandardScaler\n",
    "from sklearn.pipeline import make_pipeline\n",
    "from sklearn.model_selection import cross_val_score\n",
    "\n",
    "clf = make_pipeline(StandardScaler(), SVC(gamma='auto'))\n",
    "scores = cross_val_score(clf, dataset, labels, cv=5)\n",
    "print(scores)\n",
    "print(np.mean(scores))\n"
   ]
  },
  {
   "cell_type": "code",
   "execution_count": null,
   "id": "10bda430-59dc-47b8-85af-4b24b6ade382",
   "metadata": {},
   "outputs": [],
   "source": []
  }
 ],
 "metadata": {
  "kernelspec": {
   "display_name": "Python 3 (ipykernel)",
   "language": "python",
   "name": "python3"
  },
  "language_info": {
   "codemirror_mode": {
    "name": "ipython",
    "version": 3
   },
   "file_extension": ".py",
   "mimetype": "text/x-python",
   "name": "python",
   "nbconvert_exporter": "python",
   "pygments_lexer": "ipython3",
   "version": "3.11.5"
  }
 },
 "nbformat": 4,
 "nbformat_minor": 5
}
